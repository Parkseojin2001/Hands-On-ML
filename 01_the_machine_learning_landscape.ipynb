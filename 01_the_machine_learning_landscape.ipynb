{
  "nbformat": 4,
  "nbformat_minor": 0,
  "metadata": {
    "colab": {
      "provenance": [],
      "mount_file_id": "1u8Jk4-S8f7OvwFEhXqwnaD_q7g56dkqI",
      "authorship_tag": "ABX9TyN6vPYEPbpCeLhP7uZTXkUH",
      "include_colab_link": true
    },
    "kernelspec": {
      "name": "python3",
      "display_name": "Python 3"
    },
    "language_info": {
      "name": "python"
    }
  },
  "cells": [
    {
      "cell_type": "markdown",
      "metadata": {
        "id": "view-in-github",
        "colab_type": "text"
      },
      "source": [
        "<a href=\"https://colab.research.google.com/github/Parkseojin2001/Hands-On-ML/blob/main/01_the_machine_learning_landscape.ipynb\" target=\"_parent\"><img src=\"https://colab.research.google.com/assets/colab-badge.svg\" alt=\"Open In Colab\"/></a>"
      ]
    },
    {
      "cell_type": "markdown",
      "source": [
        "# 1.1 머신러닝이란?\n",
        "\n",
        "머신러닝은 명시적인 프로그래밍 없이 컴퓨터가 학습하는 능력을 갖추게 하는 연구 분야다.\n",
        "\n",
        "**훈련 세트(training set)** : 시스템이 학습하는 데 사용하는 샘플\n",
        "\n",
        "**훈련 사례(샘플)** : 각각의 훈련 데이터\n",
        "\n",
        "ex. 스팸 메일 분류기 - 작업 T : 새로운 메일이 스팸인지 구분하는 것, 경험 E : 훈련 데이터(training data), 성능 측정 P : 정확히 분류된 메일의 비율\n",
        "\n",
        "**정확도** : 성능 측정으로 분류 작업에 자주 사용"
      ],
      "metadata": {
        "id": "IE_X4HQA3lmG"
      }
    },
    {
      "cell_type": "code",
      "source": [
        "from google.colab import drive\n",
        "drive.mount('/content/drive')"
      ],
      "metadata": {
        "id": "k3_khHYaXbv9"
      },
      "execution_count": null,
      "outputs": []
    },
    {
      "cell_type": "markdown",
      "source": [
        "# 1.2 왜 머신러닝을 사용하는가?\n",
        "\n",
        "**전통적인 접근 방법**\n",
        "\n",
        "- 단점 : 문제가 어려우면 규칙이 점점 길고 복잡해지므로 유지 보수하기가 매우 힘들어짐\n",
        "\n",
        "<img src = \"https://velog.velcdn.com/images%2Fckstn0777%2Fpost%2Fc20d4fd9-a5b9-478b-b4bf-7904852433d5%2Fimage.png\">\n",
        "\n",
        "\n",
        "**머신러닝 접근 방법**\n",
        "\n",
        "- 장점 : 판단하는 데 좋은 기준을 자동으로 학습하여 유지 보수하기 쉬우며 정확도가 높아진다.\n",
        "\n",
        "<img src = \"https://velog.velcdn.com/images%2Fckstn0777%2Fpost%2Fbc212e89-019d-40cc-9b3c-69e27f98c60f%2Fimage.png\">\n",
        "\n",
        "**자동으로 변화에 적응하는 방식**\n",
        "\n",
        "<img src = \"https://2482909075-files.gitbook.io/~/files/v0/b/gitbook-x-prod.appspot.com/o/spaces%2F-M6u_cUpNfA1vOaTcVSD%2Fuploads%2Fgit-blob-99fa45b263e06e5535e056aeb7a178a4a78f4530%2Fwhy-machine-learning_03.png?alt=media\">\n",
        "\n",
        "머신러닝이 유용한 분야\n",
        "\n",
        "- 전통적인 방식으로는 너무 복잡하거나 알려진 알고리즘이 없는 문제로 예를 들어 음성 인식이 있다.\n",
        "\n",
        "- 머신러닝을 통해 배울 수도 있다.\n",
        "\n",
        "**데이터 마이닝(data mining)** : 머신러닝 기술을 적용해서 대용량의 데이터를 분석하면 겉으로는 보이지 않던 패턴을 발견할 수 있다.\n",
        "\n",
        "### **요약**\n",
        "\n",
        "1. 기존 솔루션으로는 많은 수동 조정과 규칙이 필요한 문제 : 하나의 머신러닝 모델이 코드를 간단하게 만들고 전통적인 방법보다 더 잘 수행되도록 할 수 있다.\n",
        "\n",
        "2. 전통적인 방식으로는 해결 방법이 없는 복잡한 문제 : 가장 뛰어난 머신러닝 기법으로 해결 방법을 찾을 수 있다.\n",
        "\n",
        "3. 유동적인 환경 : 머신러닝 시스템은 새로운 데이터에 적응할 수 있다.\n",
        "\n",
        "4. 복잡한 문제와 대량의 데이터에서 통찰 얻기(데이터 마이닝)\n",
        "\n"
      ],
      "metadata": {
        "id": "lqD7z1tp5_Hx"
      }
    },
    {
      "cell_type": "markdown",
      "source": [
        "# 1.3 애플리케이션 사례\n",
        "\n",
        "- 생산 라인에서 제품 이미지를 분석해 자동으로 분류하기 : 이미지 분류 작업\n",
        "\n",
        "- 뇌를 스캔하여 종양 진단하기\n",
        "\n",
        "- 자동으로 뉴스 기사를 분류하기\n",
        "\n",
        "- 토론 포럼에서 부정적인 코멘트를 자동으로 구분하기\n",
        "\n",
        "- 긴 문서를 자동으로 요약하기\n",
        "\n",
        "- 챗봇 또는 자동으로 요약하기\n",
        "\n",
        "etc....."
      ],
      "metadata": {
        "id": "VKCOcqXB9ujb"
      }
    },
    {
      "cell_type": "markdown",
      "source": [
        "# 1.4 머신러닝 시스템의 종류\n",
        "\n",
        "**머신러닝 시스템의 종류**\n",
        "\n",
        "- 사람의 감독하에 훈련하는 것인지 그렇지 않은 것인지(지도, 비지도, 준지도, 강화 학습)\n",
        "\n",
        "- 실시간으로 점진적인 학습을 하는지 아닌지(온라인 학습과 배치 학습)\n",
        "\n",
        "- 단순하게 알고 있는 데이터 포인트와 새 데이터 포인트를 비교하는 것인지 아니면 과학자들이 하는 것처럼 훈련 데이터셋에서 패턴을 발견하여 예측 모델을 만드는지(사례 기반 학습과 모델 기반 학습)"
      ],
      "metadata": {
        "id": "W3C6oziK-M56"
      }
    },
    {
      "cell_type": "markdown",
      "source": [
        "## 1.4.1 지도 학습과 비지도 학습\n",
        "\n",
        "머신러닝 시스템을 '학습하는 동안의 감독 형태나 정보량'에 따라 분류할 수 있습니다. 지도 학습, 비지도 학습, 준지도 학습, 강화 학습 등 네 가지 주요 범주가 있다.\n",
        "\n",
        "### **지도 학습**\n",
        "\n",
        "**지도 학습(supervised learning)** : 알고리즘에 주입하는 훈련 데이터에 **레이블(label)**이라는 원하는 답이 포함된다.\n",
        "\n",
        "**분류(classification)** : 전형적인 지도 학습 작업이며, 스팸 필터가 좋은 예이다.\n",
        "\n",
        "<img src = \"https://tensorflowkorea.files.wordpress.com/2018/05/e18489e185b3e1848fe185b3e18485e185b5e186abe18489e185a3e186ba-2018-05-23-e1848be185a9e18492e185ae-11-57-23.png\">\n",
        "\n",
        "**회귀(regression)** : **예측 변수(predictor variable)**라 부르는 **특성(feature)**을 사용해 중고차 가격 같은 **타깃(target)** 수치를 예측하는 것이다.\n",
        "\n",
        "<img src = \"https://tensorflowkorea.files.wordpress.com/2018/05/e18489e185b3e1848fe185b3e18485e185b5e186abe18489e185a3e186ba-2018-05-24-e1848be185a9e1848ce185a5e186ab-12-01-09.png\">\n",
        "\n",
        "일부 회귀 알고리즘은 분류에 사용할 수도 있고 일부 분류 알고리즘을 회귀에 사용할 수 있다.\n",
        "\n",
        "**지도 학습 알고리즘**\n",
        "\n",
        "- k-최근접 이웃(k-nearest neighbors)\n",
        "\n",
        "- 선형 회귀(linear regression)\n",
        "\n",
        "- 서포트 벡터 머신(support vector machine - SVM)\n",
        "\n",
        "- 결정 트리(decision tree)와 랜덤 포레스트(random forest)\n",
        "\n",
        "- 신경망(neural networks)\n",
        "\n",
        "### **비지도 학습**\n",
        "\n",
        "**비지도 학습(unsupervised learning)** : 훈련 데이터에 레이블이 없으며 시스템이 아무런 도움 없이 학습해야 한다.\n",
        "\n",
        "<img src = \"https://tensorflowkorea.files.wordpress.com/2018/05/e18489e185b3e1848fe185b3e18485e185b5e186abe18489e185a3e186ba-2018-05-24-e1848be185a9e1848ce185a5e186ab-12-03-43.png\">\n",
        "\n",
        "**비지도 학습 알고리즘**\n",
        "\n",
        "- 군집(clustering)\n",
        "  \n",
        "  - k-평균(k-means)\n",
        "\n",
        "  - DBSCAN\n",
        "\n",
        "  - 계층 군집 분석(hierarchical cluster analysis - HCA)\n",
        "\n",
        "  - 이상치 탐지(outlier detection)와 특이치 탐지(novelty detection)\n",
        "\n",
        "  - 원-클래스(one-class SVM)\n",
        "\n",
        "  - 아이솔레이션 포레스트(isolation forest)\n",
        "\n",
        "- 시각화(visualization)와 차원 축소(dimensionality reduction)\n",
        "\n",
        "  - 주성분 분석(principle component analysis - PCA)\n",
        "\n",
        "  - 커널(kernel) PCA\n",
        "\n",
        "  - 지역적 선형 임베딩(locally-linear embedding - LLE)\n",
        "\n",
        "  - t-SNE(t-distributed stochastic neighbor embedding)\n",
        "\n",
        "- 연관 규칙 학습(association rule learning)\n",
        "\n",
        "  - 어프라이어리(Apriori)\n",
        "\n",
        "  - 이클렛(Eclat)\n",
        "\n",
        "\n",
        "군집의 예시. 블로그 방문자들을 비슷한 방문자들을 그룹으로 묶기\n",
        "\n",
        "  - 알고리즘이 방문자들 사이의 연결고리를 찾는다.\n",
        "\n",
        "**계층 군집(hierarchical clustering)** : 각 그룹을 더 작은 그룹으로 세분화할 수 있다.\n",
        "\n",
        "<img src = \"https://tensorflowkorea.files.wordpress.com/2018/05/e18489e185b3e1848fe185b3e18485e185b5e186abe18489e185a3e186ba-2018-05-24-e1848be185a9e1848ce185a5e186ab-12-10-27.png\">\n",
        "\n",
        "**시각화(visualization)** : 비지도 학습 알고리즘의 예로 레이블이 없는 대규모의 고차원 데이터를 넣으면 도식화가 가능한 2D나 3D 표현을 만들어준다.\n",
        "\n",
        "- 가능한 한 구조를 그대로 유지하려 하므로 데이터가 어떻게 조직되어 있는지 이해할 수 있고 예상하지 못한 패턴을 발견할 수 있다.\n",
        "\n",
        "**차원 축소** : 너무 많은 정보를 잃지 않으면서 데이터를 간소화하는 알고리즘이다.\n",
        "\n",
        "  - 상관관계가 있는 여러 특성을 하나로 합치는 것이다.\n",
        "  \n",
        "  ex. 차의 주행거리와 연식은 강하게 연관되어 있으므로 차원 축소 알고리즘으로 두 특성을 하나의 특성으로 합칠 수 있다.\n",
        "\n",
        "  - 연관이 강한 특성들을 하나의 특성으로 합치는 것을 **특성 추출(feature extraction)**이라고 한다.\n",
        "\n",
        "  ```\n",
        "  머신러닝 알고리즘에 데이터를 주입하기 전에 차원 축소 알고리즘을 사용하여 훈련 데이터의 차원을 줄일 수 있다.\n",
        "  이를 통해 실행 속도가 훨씬 빨라지고 디스크와 메모리를 차지하는 공간도 줄고 성능이 더 좋아질 수도 있다.\n",
        "  ```\n",
        "<img src = \"https://tensorflowkorea.files.wordpress.com/2018/05/e18489e185b3e1848fe185b3e18485e185b5e186abe18489e185a3e186ba-2018-05-24-e1848be185a9e1848ce185a5e186ab-12-12-39.png\">\n",
        "\n",
        "**이상치 탐지(outlier detection)** : 시스템은 훈련하는 동안 대부분 정상 샘플을 만나 이를 인식하도록 훈련되며 그 다음은 새로운 샘플을 보고 정상 데이터인지 혹은 이상치인지 판단한다.(정상 샘플 + 이상치 샘플)\n",
        "\n",
        "<img src = \"https://tensorflowkorea.files.wordpress.com/2018/05/e18489e185b3e1848fe185b3e18485e185b5e186abe18489e185a3e186ba-2018-05-24-e1848be185a9e1848ce185a5e186ab-12-16-02.png\">\n",
        "\n",
        "**특이치 탐지(novelty detection)** : 훈련 세트에 있는 모든 샘플과 달라 보이는 새로운 샘플을 탐지하는 것이 목적이므로 알고리즘으로 감지하고 싶은 샘플들을 제거한 훈련 데이터셋이 필요하다.\n",
        "\n",
        "**연관 규칙 학습(association rule learning)** : 대량의 데이터에서 특성 간의 흥미로운 관계를 찾는 것이다.\n",
        "\n",
        "### **준지도 학습**\n",
        "\n",
        "**준지도 학습(semisupervised learning)** : 데이터에 레이블을 다는 것은 일반적으로 시간과 비용이 많이 들기 때문에 레이블이 없는 샘플이 많고 레이블된 샘플은 적은 경우가 있어 일부만 레이블이 있는 데이터를 다룬다.\n",
        "\n",
        "ex. 구글 포토 호스팅 서비스\n",
        "\n",
        "- 지도 학습 + 비지도 학습\n",
        "\n",
        "- **심층 신뢰 신경망(deep belief network - DBN)** : 여러 겹으로 쌓은 **제한된 볼츠만 머신(restricted Boltzmann machine - RBM)**이라 불리는 비지도 학습에 기초한다.\n",
        "\n",
        "- RBM이 비지도 학습 방식으로 순차적으로 훈련된 다음 전체 시스템이 지도 학습 방식으로 세밀하게 조정\n",
        "\n",
        "<img src = \"https://tensorflowkorea.files.wordpress.com/2018/05/e18489e185b3e1848fe185b3e18485e185b5e186abe18489e185a3e186ba-2018-05-24-e1848be185a9e1848ce185a5e186ab-12-19-21.png\">\n",
        "\n",
        "### **강화 학습**\n",
        "\n",
        "**강화 학습** : 학습하는 시스템을 **에이전트**라고 부르며 환경을 관찰해서 행동을 실행하고 그 결과로 **보상(reward)**or **벌점(penalty)**을 받는다. 시간이 지나면서 가장 큰 보상을 얻기 위해 **정책**이라고 부르는 최상의 전략을 스스로 학습한다. 정책은 주어진 상황에서 에이전트가 어떤 행동을 선택해야 할지 정의한다.\n",
        "\n",
        "<img src = \"https://tensorflowkorea.files.wordpress.com/2018/05/e18489e185b3e1848fe185b3e18485e185b5e186abe18489e185a3e186ba-2018-05-24-e1848be185a9e1848ce185a5e186ab-12-21-44.png\">"
      ],
      "metadata": {
        "id": "AuwVaqU4-0GS"
      }
    },
    {
      "cell_type": "markdown",
      "source": [
        "## 1.4.2 배치 학습과 온라인 학습\n",
        "\n",
        "### **배치 학습(batch learning)**\n",
        "- 시스템이 점진적으로 학습할 수 없으며 가용한 데이터를 모두 사용해 훈련시켜야 한다.\n",
        "\n",
        "- 시간과 자원을 많이 소모하므로 보통 오프라인에서 수행된다.\n",
        "\n",
        "- 시스템을 훈련시키고 제품 시스템에 적용하면 더 이상의 학습을 하지 않는다.\n",
        "\n",
        "**오프라인 학습** : 학습한 것을 단지 적용만 하는 학습 방법\n",
        "\n",
        "- 방식이 간단하고 잘 작동하지만 전체 데이터셋을 사용해 훈련하는 데 몇 시간이 소요될 수 있다.\n",
        "\n",
        "- 데이터셋의 크기가 커 많은 컴퓨팅 자원이 필요하다.\n",
        "\n",
        "### **온라인 학습**\n",
        "\n",
        "- 데이터를 순차적으로 한 개씩 또는 **미니배치**라고 부르는 작은 묶음 단위로 주입하여 시스템을 훈련하는 학습 방식\n",
        "\n",
        "<img  src = \"https://tensorflowkorea.files.wordpress.com/2018/05/e18489e185b3e1848fe185b3e18485e185b5e186abe18489e185a3e186ba-2018-05-24-e1848be185a9e18492e185ae-6-20-09.png\">\n",
        "\n",
        "- 매 학습 단계가 빠르고 비용이 적게 들어 시스템은 데이터가 도착하는 대로 즉시 학습할 수 있다.\n",
        "\n",
        "- 연속적으로 데이터를 받고(ex. 주식 가격) 빠른 변화에 스스로 적응해야 하는 시스템에 적합하다.\n",
        "\n",
        "- 컴퓨팅 자원이 제한된 경우에도 좋은 선택\n",
        "\n",
        "- 학습이 끝난 데이터는 필요하지 않으므로 버려도 되어 메모리가 절약된다.\n",
        "\n",
        "\n",
        "**외부 메모리 학습** : 컴퓨터 한 대의 메모리에 들어갈 수 없는 아주 큰 데이터셋을 학습하는 시스템(온라인 학습 알고리즘이 사용 가능)\n",
        "\n",
        "<img src = \"https://tensorflowkorea.files.wordpress.com/2018/05/e18489e185b3e1848fe185b3e18485e185b5e186abe18489e185a3e186ba-2018-05-24-e1848be185a9e18492e185ae-6-23-50.png\">\n",
        "\n",
        "**학습률** : 온라인 학습 시스템에서 중요한 파라미터 중 하나이며 데이터에 얼마나 빠르게 적응할 것인지를 의미한다.\n",
        "\n",
        "학습률 &uarr; &rarr; 데이터 적응 속도 &uarr; & 데이터를 잊는 속도 &darr;\n",
        "\n",
        "학습률 &darr; &rarr; 시스템의 관성 &urrar; & 학습 속도 &darr;\n",
        "\n",
        "**단점** : 시스템에 나쁜 데이터가 주입되었을 때 시스템 성능이 점진적으로 감소한다.\n",
        "\n",
        "&rarr; 입력 데이터를 모니터링헤서 비정상 데이터를 잡아낼 수 있다.\n"
      ],
      "metadata": {
        "id": "TMrHK9dblOrY"
      }
    },
    {
      "cell_type": "markdown",
      "source": [
        "## 1.4.3 사례 기반 학습과 모델 기반 학습\n",
        "\n",
        "머신러닝 시스템은 어떻게 **일반화**되는가에 따라 분류할 수 있다.\n",
        "\n",
        "1) 사례 기반 학습\n",
        "\n",
        "2) 모델 기반 학습\n",
        "\n",
        "### **사례 기반 학습**\n",
        "\n",
        "**사례 기반 학습**은 시스템이 훈련 샘플을 기억하는 방식으로 학습하여 새로운 데이터와 학습한 샘플과의 **유사도 측정**을 통해 일반화를 한다.\n",
        "\n",
        "<img src = \"https://tensorflowkorea.files.wordpress.com/2018/05/e18489e185b3e1848fe185b3e18485e185b5e186abe18489e185a3e186ba-2018-05-24-e1848be185a9e18492e185ae-6-32-25.png\">\n",
        "\n",
        "### **모델 기반 학습**\n",
        "\n",
        "**모델 기반 학습**은 샘플들의 모델을 만들어 **예측**에 사용하는 것이다.\n",
        "\n",
        "<img src = \"https://tensorflowkorea.files.wordpress.com/2018/05/e18489e185b3e1848fe185b3e18485e185b5e186abe18489e185a3e186ba-2018-05-24-e1848be185a9e18492e185ae-6-33-27.png\">\n",
        "\n",
        "ex. 더 나은 삶의 지표\n",
        "\n",
        "<img src = \"https://tensorflowkorea.files.wordpress.com/2018/05/e18489e185b3e1848fe185b3e18485e185b5e186abe18489e185a3e186ba-2018-05-24-e1848be185a9e18492e185ae-6-35-00.png\">\n",
        "\n",
        "<img src = \"https://tensorflowkorea.files.wordpress.com/2018/05/e18489e185b3e1848fe185b3e18485e185b5e186abe18489e185a3e186ba-2018-05-24-e1848be185a9e18492e185ae-6-35-32.png\">\n",
        "\n",
        "- 흝어져 있지만 삶의 만족도는 국가의 1인당 GDP가 증가할수록 거의 선형으로 같이 올라간다.\n",
        "\n",
        "  &rarr; 1인당 GDP의 선형 함수로 삶의 만족도를 모델링 = **모델 선택**\n",
        "\n",
        "\n",
        "*즉 , 1인당 GDP라는 특성 하나를 가진 삶의 만족도에 대한 **선형 모델**이다.*\n",
        "\n",
        "\n",
        "$$ 삶의만족도 = \\Theta_0 + \\Theta_1 * 1인당 GDP $$\n",
        "\n",
        "**모델 파라미터** : $\\Theta_0$ ,  $\\Theta_1$을 의미하며 이를 조정하여 여러 선형 모델을 얻을 수 있다.\n",
        "\n",
        "<img src = \"https://tensorflowkorea.files.wordpress.com/2018/05/e18489e185b3e1848fe185b3e18485e185b5e186abe18489e185a3e186ba-2018-05-24-e1848be185a9e18492e185ae-6-42-28.png\">\n",
        "\n",
        "모델이 최상의 성능을 내도록 하는 값을 측정하는 방법에는 2가지가 있다.\n",
        "\n",
        "**1. 효용 함수(적합도 함수) :** 모델이 얼마나 좋은지 측정하는 방법\n",
        "\n",
        "**2. 비용 함수 :** 모델이 얼마나 나쁜지 측정하는 방법 &rarr; 거리를 최소화하는 것이 목표이다.\n",
        "\n",
        "예시는 선형 회귀 알고리즘을 이용하여 훈련 데이터를 공급하면 데이터에 가장 잘 맞는 선형 모델을 찾을 수 있다.\n",
        "\n",
        "**훈련(Training) :** 훈련 데이터를 공급하여 가장 잘 맞는 모델을 찾는 것\n",
        "\n",
        "<img src = \"https://tensorflowkorea.files.wordpress.com/2018/05/e18489e185b3e1848fe185b3e18485e185b5e186abe18489e185a3e186ba-2018-05-24-e1848be185a9e18492e185ae-6-45-33.png\">\n",
        "\n",
        "위의 모델을 통해 새로운 데이터의 값을 예측할 수 있다."
      ],
      "metadata": {
        "id": "teZRDWNoqMdp"
      }
    },
    {
      "cell_type": "code",
      "source": [
        "import matplotlib.pyplot as plt\n",
        "import numpy as np\n",
        "import pandas as pd\n",
        "import sklearn.linear_model"
      ],
      "metadata": {
        "id": "U-lGWSIKLw1X"
      },
      "execution_count": 2,
      "outputs": []
    },
    {
      "cell_type": "code",
      "source": [
        "# 데이터 적재\n",
        "oecd_bli = pd.read_csv(\"/content/drive/MyDrive/Colab Notebooks/Github/Hands-On Machine Learning /PART 1 Machine Learning/oecd_bli_2015.csv\", thousands = ',')\n",
        "gdp_per_capita = pd.read_csv(\"/content/drive/MyDrive/Colab Notebooks/Github/Hands-On Machine Learning /PART 1 Machine Learning/gdp_per_capita.csv\", thousands = ',', delimiter = '\\t', encoding = 'latin1', na_values = \"n/a\")"
      ],
      "metadata": {
        "id": "JzxaX0toOrfK"
      },
      "execution_count": 10,
      "outputs": []
    },
    {
      "cell_type": "code",
      "source": [
        "def prepare_country_stats(oecd_bli, gdp_per_capita):\n",
        "    oecd_bli = oecd_bli[oecd_bli[\"INEQUALITY\"]==\"TOT\"]\n",
        "    oecd_bli = oecd_bli.pivot(index=\"Country\", columns=\"Indicator\", values=\"Value\")\n",
        "    gdp_per_capita.rename(columns={\"2015\": \"GDP per capita\"}, inplace=True)\n",
        "    gdp_per_capita.set_index(\"Country\", inplace=True)\n",
        "    full_country_stats = pd.merge(left=oecd_bli, right=gdp_per_capita,\n",
        "                                  left_index=True, right_index=True)\n",
        "    full_country_stats.sort_values(by=\"GDP per capita\", inplace=True)\n",
        "    remove_indices = [0, 1, 6, 8, 33, 34, 35]\n",
        "    keep_indices = list(set(range(36)) - set(remove_indices))\n",
        "    return full_country_stats[[\"GDP per capita\", 'Life satisfaction']].iloc[keep_indices]"
      ],
      "metadata": {
        "id": "FZriHoYmY4fO"
      },
      "execution_count": 8,
      "outputs": []
    },
    {
      "cell_type": "code",
      "source": [
        "# 데이터 준비\n",
        "country_stats = prepare_country_stats(oecd_bli, gdp_per_capita)\n",
        "X = np.c_[country_stats[\"GDP per capita\"]]\n",
        "y = np.c_[country_stats[\"Life satisfaction\"]]"
      ],
      "metadata": {
        "id": "ad-mNu11YQfG"
      },
      "execution_count": 11,
      "outputs": []
    },
    {
      "cell_type": "code",
      "source": [
        "# 데이터 시각화\n",
        "country_stats.plot(kind = 'scatter', x = \"GDP per capita\", y = 'Life satisfaction')\n",
        "plt.show()"
      ],
      "metadata": {
        "colab": {
          "base_uri": "https://localhost:8080/",
          "height": 449
        },
        "id": "C0a2hQJEYrLa",
        "outputId": "3877430f-56eb-4e52-8b24-987cd3675605"
      },
      "execution_count": 12,
      "outputs": [
        {
          "output_type": "display_data",
          "data": {
            "text/plain": [
              "<Figure size 640x480 with 1 Axes>"
            ],
            "image/png": "[encoded data removed]"
          },
          "metadata": {}
        }
      ]
    },
    {
      "cell_type": "code",
      "source": [
        "# 선형 모델 선택\n",
        "model = sklearn.linear_model.LinearRegression()"
      ],
      "metadata": {
        "id": "iD0MqopXZH3n"
      },
      "execution_count": 13,
      "outputs": []
    },
    {
      "cell_type": "code",
      "source": [
        "# 모델 훈련\n",
        "model.fit(X, y)"
      ],
      "metadata": {
        "colab": {
          "base_uri": "https://localhost:8080/",
          "height": 75
        },
        "id": "tihmYEmCZVL4",
        "outputId": "0eaeca6e-65df-4b53-803e-3b978990cb30"
      },
      "execution_count": 14,
      "outputs": [
        {
          "output_type": "execute_result",
          "data": {
            "text/plain": [
              "LinearRegression()"
            ],
            "text/html": [
              "<style>#sk-container-id-1 {color: black;background-color: white;}#sk-container-id-1 pre{padding: 0;}#sk-container-id-1 div.sk-toggleable {background-color: white;}#sk-container-id-1 label.sk-toggleable__label {cursor: pointer;display: block;width: 100%;margin-bottom: 0;padding: 0.3em;box-sizing: border-box;text-align: center;}#sk-container-id-1 label.sk-toggleable__label-arrow:before {content: \"▸\";float: left;margin-right: 0.25em;color: #696969;}#sk-container-id-1 label.sk-toggleable__label-arrow:hover:before {color: black;}#sk-container-id-1 div.sk-estimator:hover label.sk-toggleable__label-arrow:before {color: black;}#sk-container-id-1 div.sk-toggleable__content {max-height: 0;max-width: 0;overflow: hidden;text-align: left;background-color: #f0f8ff;}#sk-container-id-1 div.sk-toggleable__content pre {margin: 0.2em;color: black;border-radius: 0.25em;background-color: #f0f8ff;}#sk-container-id-1 input.sk-toggleable__control:checked~div.sk-toggleable__content {max-height: 200px;max-width: 100%;overflow: auto;}#sk-container-id-1 input.sk-toggleable__control:checked~label.sk-toggleable__label-arrow:before {content: \"▾\";}#sk-container-id-1 div.sk-estimator input.sk-toggleable__control:checked~label.sk-toggleable__label {background-color: #d4ebff;}#sk-container-id-1 div.sk-label input.sk-toggleable__control:checked~label.sk-toggleable__label {background-color: #d4ebff;}#sk-container-id-1 input.sk-hidden--visually {border: 0;clip: rect(1px 1px 1px 1px);clip: rect(1px, 1px, 1px, 1px);height: 1px;margin: -1px;overflow: hidden;padding: 0;position: absolute;width: 1px;}#sk-container-id-1 div.sk-estimator {font-family: monospace;background-color: #f0f8ff;border: 1px dotted black;border-radius: 0.25em;box-sizing: border-box;margin-bottom: 0.5em;}#sk-container-id-1 div.sk-estimator:hover {background-color: #d4ebff;}#sk-container-id-1 div.sk-parallel-item::after {content: \"\";width: 100%;border-bottom: 1px solid gray;flex-grow: 1;}#sk-container-id-1 div.sk-label:hover label.sk-toggleable__label {background-color: #d4ebff;}#sk-container-id-1 div.sk-serial::before {content: \"\";position: absolute;border-left: 1px solid gray;box-sizing: border-box;top: 0;bottom: 0;left: 50%;z-index: 0;}#sk-container-id-1 div.sk-serial {display: flex;flex-direction: column;align-items: center;background-color: white;padding-right: 0.2em;padding-left: 0.2em;position: relative;}#sk-container-id-1 div.sk-item {position: relative;z-index: 1;}#sk-container-id-1 div.sk-parallel {display: flex;align-items: stretch;justify-content: center;background-color: white;position: relative;}#sk-container-id-1 div.sk-item::before, #sk-container-id-1 div.sk-parallel-item::before {content: \"\";position: absolute;border-left: 1px solid gray;box-sizing: border-box;top: 0;bottom: 0;left: 50%;z-index: -1;}#sk-container-id-1 div.sk-parallel-item {display: flex;flex-direction: column;z-index: 1;position: relative;background-color: white;}#sk-container-id-1 div.sk-parallel-item:first-child::after {align-self: flex-end;width: 50%;}#sk-container-id-1 div.sk-parallel-item:last-child::after {align-self: flex-start;width: 50%;}#sk-container-id-1 div.sk-parallel-item:only-child::after {width: 0;}#sk-container-id-1 div.sk-dashed-wrapped {border: 1px dashed gray;margin: 0 0.4em 0.5em 0.4em;box-sizing: border-box;padding-bottom: 0.4em;background-color: white;}#sk-container-id-1 div.sk-label label {font-family: monospace;font-weight: bold;display: inline-block;line-height: 1.2em;}#sk-container-id-1 div.sk-label-container {text-align: center;}#sk-container-id-1 div.sk-container {/* jupyter's `normalize.less` sets `[hidden] { display: none; }` but bootstrap.min.css set `[hidden] { display: none !important; }` so we also need the `!important` here to be able to override the default hidden behavior on the sphinx rendered scikit-learn.org. See: https://github.com/scikit-learn/scikit-learn/issues/21755 */display: inline-block !important;position: relative;}#sk-container-id-1 div.sk-text-repr-fallback {display: none;}</style><div id=\"sk-container-id-1\" class=\"sk-top-container\"><div class=\"sk-text-repr-fallback\"><pre>LinearRegression()</pre><b>In a Jupyter environment, please rerun this cell to show the HTML representation or trust the notebook. <br />On GitHub, the HTML representation is unable to render, please try loading this page with nbviewer.org.</b></div><div class=\"sk-container\" hidden><div class=\"sk-item\"><div class=\"sk-estimator sk-toggleable\"><input class=\"sk-toggleable__control sk-hidden--visually\" id=\"sk-estimator-id-1\" type=\"checkbox\" checked><label for=\"sk-estimator-id-1\" class=\"sk-toggleable__label sk-toggleable__label-arrow\">LinearRegression</label><div class=\"sk-toggleable__content\"><pre>LinearRegression()</pre></div></div></div></div></div>"
            ]
          },
          "metadata": {},
          "execution_count": 14
        }
      ]
    },
    {
      "cell_type": "code",
      "source": [
        "# 키프로스에 대한 예측 만들기\n",
        "X_new = [[22587]]\n",
        "print(model.predict(X_new))"
      ],
      "metadata": {
        "colab": {
          "base_uri": "https://localhost:8080/"
        },
        "id": "bQeHZ9xoZZSZ",
        "outputId": "574c5404-b005-4a2a-a2ca-e8dc80d33039"
      },
      "execution_count": 17,
      "outputs": [
        {
          "output_type": "stream",
          "name": "stdout",
          "text": [
            "[[5.96242338]]\n"
          ]
        }
      ]
    },
    {
      "cell_type": "code",
      "source": [
        "# 사례 기반 학습 알고리즘 : k-최근접 이웃\n",
        "import sklearn.neighbors\n",
        "model = sklearn.neighbors.KNeighborsRegressor(n_neighbors = 3)"
      ],
      "metadata": {
        "id": "15mv8TthZhM1"
      },
      "execution_count": 18,
      "outputs": []
    },
    {
      "cell_type": "code",
      "source": [
        "model.fit(X, y)\n",
        "X_new = [[22587]]\n",
        "print(model.predict(X_new))"
      ],
      "metadata": {
        "colab": {
          "base_uri": "https://localhost:8080/"
        },
        "id": "taLjItjiZ8dn",
        "outputId": "24eb673d-4b69-405c-cdef-d5752ad16e0e"
      },
      "execution_count": 19,
      "outputs": [
        {
          "output_type": "stream",
          "name": "stdout",
          "text": [
            "[[5.76666667]]\n"
          ]
        }
      ]
    },
    {
      "cell_type": "markdown",
      "source": [
        "**머신러닝 프로젝트 순서**\n",
        "\n",
        "- 데이터 분석\n",
        "\n",
        "- 모델 선택\n",
        "\n",
        "- 훈련 데이터로 모델을 훈련(학습 알고리즘이 비용 함수를 최소화하는 모델 파라미터 찾기)\n",
        "\n",
        "- 새로운 데이터에 모델을 적용해 예측하고(= 추론), 이 모델이 잘 일반화되길 기대"
      ],
      "metadata": {
        "id": "Ju7Rnl6EaEpi"
      }
    },
    {
      "cell_type": "markdown",
      "source": [
        "# 1.5 머신러닝의 주요 도전 과제\n",
        "\n",
        "문제가 발생할 수 있는 경우\n",
        "\n",
        "1. 나쁜 알고리즘\n",
        "\n",
        "2. 나쁜 데이터"
      ],
      "metadata": {
        "id": "aOkVaDdLaZsI"
      }
    },
    {
      "cell_type": "markdown",
      "source": [
        "## 1.5.1 충분하지 않은 양의 훈련 데이터\n",
        "\n",
        "대부분의 머신러닝 알고리즘이 잘 작동하려면 데이터가 많아야 한다.\n",
        "\n",
        "<img src = \"https://tensorflowkorea.files.wordpress.com/2018/05/e18489e185b3e1848fe185b3e18485e185b5e186abe18489e185a3e186ba-2018-05-28-e1848be185a9e18492e185ae-11-46-55.png\">\n"
      ],
      "metadata": {
        "id": "RkpILSeFavUd"
      }
    },
    {
      "cell_type": "markdown",
      "source": [
        "## 1.5.2 대표성 없는 훈련 데이터\n",
        "\n",
        "일반화가 잘되려면 우리가 일반화하기 원하는 새로운 사례를 훈련 데이터가 잘 대표하는 것이 중요하다.(사례 기반 학습, 모델 기반 학습 모두 해당)\n",
        "\n",
        "<img src = \"https://tensorflowkorea.files.wordpress.com/2018/05/e18489e185b3e1848fe185b3e18485e185b5e186abe18489e185a3e186ba-2018-05-28-e1848be185a9e18492e185ae-11-52-13.png\">\n",
        "\n",
        "누락된 데이터를 추가하면 모델이 크게 변경됨을 알 수 있으며 간단한 선형 모델이 잘 작동하지 않음을 알 수 있다.\n",
        "\n",
        "*즉, 대표성이 없는 훈련 데이터를 사용하면 정확한 예측을 하지 못하므로, 일반화하려는 사례들을 대표하는 훈련 세트를 사용하는 것이 매우 중요하다.*\n",
        "\n",
        "**샘플링 잡음(sampling noise)** : 샘플이 작으면 발생(우연에 의한 대표성이 없는 데이터)\n",
        "\n",
        "**샘플링 편향(sampling bias)** : 표본 추출 방법이 잘못되면 대표성을 띠지 못하는 샘플"
      ],
      "metadata": {
        "id": "cku3ZpzMg0m6"
      }
    },
    {
      "cell_type": "markdown",
      "source": [
        "## 1.5.3 낮은 품질의 데이터\n",
        "\n",
        "훈련 데이터에 에러, 이상치(outlier), 잡음이 많으면 머신러닝 시스템이 내재된 패턴을 찾기 어려워 잘 작동하지 않을 수 있다.\n",
        "\n",
        "- 일부 샘플이 이상치라는 게 명확하면 간단히 그것들을 무시하거나 수동으로 잘못된 것을 고치는 것이 좋다.\n",
        "\n",
        "- 일부 샘플에 특성 몇 개가 빠져있다면, 이 특성을 모두 무시할지, 이 샘플을 무시할지, 빠진 값을 채울지, 또는 이 특성을 넣은 모델과 제외한 모델을 따로 훈련시킬 것인지 결정해야 한다."
      ],
      "metadata": {
        "id": "3wqjuVl2nj-y"
      }
    },
    {
      "cell_type": "markdown",
      "source": [
        "## 1.5.4 관련 없는 특성\n",
        "\n",
        "훈련 데이터에 관련 없는 특성이 적고 관련 있는 특성이 충분해야 시스템이 학습할 수 있다.\n",
        "\n",
        "**특성 공학(feature engineering)** : 훈련에 사용할 좋은 특성을 찾기\n",
        "\n",
        "- 특성 선택(feature selection) : 가지고 있는 특성 중에서 훈련에 가장 유용한 특성을 선택\n",
        "\n",
        "- 특성 추출(feature extraction) : 특성을 결합하여 더 유용한 특성을 만든다.(차원 축소 알고리즘이 도움이 될 수 있음)\n",
        "\n",
        "- 새로운 데이터를 수집해 새 특성을 생성"
      ],
      "metadata": {
        "id": "eGWMJSiSoZqQ"
      }
    },
    {
      "cell_type": "markdown",
      "source": [
        "## 1.5.5 훈련 데이터 과대적합\n",
        "\n",
        "**과대적합(overfitting)** : 과도하게 일반화하는 것으로 모델이 훈련 데이터에 너무 잘 맞지만 일반성이 떨어지는 경우를 말한다.\n",
        "\n",
        "<img src = \"https://tensorflowkorea.files.wordpress.com/2018/05/e18489e185b3e1848fe185b3e18485e185b5e186abe18489e185a3e186ba-2018-05-29-e1848be185a9e1848ce185a5e186ab-11-57-16.png\">\n",
        "\n",
        "심층 신경망 같은 복잡한 모델은 데이터에서 미묘한 패턴을 감지할 수 있지만, 훈련 세트에 잡음이 많거나 데이터셋이 너무 작으면 (샘플링 잡음이 발생하므로) 잡음이 섞인 패턴을 감지하게 된다. &rarr; 새로운 샘플에 일반화되지 못함\n",
        "\n",
        "```\n",
        "  과대적합은 훈련 데이터에 있는 잡음의 양에 비해 모델이 너무 복잡할 때 일어난다. 해결 방안은 다음과 같다.\n",
        "\n",
        "  - 파라미터 수가 적은 모델을 선택하거나(ex. 고차원 다항 모델보다 선형 모델), 훈련 데이터에 있는 특성 수를 줄이거나, 모델에 제약을 가하여 단순화시킨다.\n",
        "\n",
        "  - 훈련 데이터를 더 많이 모든다.\n",
        "\n",
        "  - 훈련 데이터의 잡음을 줄인다.(ex. 오류 데이터 수정과 이상치 제거)\n",
        "\n",
        "```\n",
        "\n",
        "**규제** : 모델을 단순하게 하고 과대적합의 위험을 감소시키기 위해 모델에 제약을 가하는 것\n",
        "\n",
        "데이터에 완벽히 맞추는 것과 일반화를 위해 단순한 모델을 유지하는 것 사이의 올바른 균형을 찾는 좋다.\n",
        "\n",
        "<img src = \"https://tensorflowkorea.files.wordpress.com/2018/05/e18489e185b3e1848fe185b3e18485e185b5e186abe18489e185a3e186ba-2018-05-29-e1848be185a9e18492e185ae-12-05-12.png\">\n",
        "\n",
        "**하이퍼파라미터(hyperparameter)** : 학습하는 동안 적용할 규제의 양을 결정하며 학습 알고리즘의 파라미터이다.\n",
        "\n",
        "- 학습 알고리즘으로부터 영향을 받지 않음\n",
        "\n",
        "- 훈련 전에 미리 지정\n",
        "\n",
        "- 머신러닝 시스템을 구축할 때 매우 중요한 과정이다."
      ],
      "metadata": {
        "id": "1PNNQTtNpG6t"
      }
    },
    {
      "cell_type": "markdown",
      "source": [
        "## 1.5.6 훈련 데이터 과소적합\n",
        "\n",
        "**과소적합(underfitting)** : 과대적합의 반대이며 모델이 너무 단순해서 데이터의 내재된 구조를 학습하지 못할 때 일어난다.\n",
        "\n",
        "```\n",
        "  해결 방안\n",
        "  \n",
        "  - 모델 파라미터가 더 많은 강력한 모델을 선택한다.\n",
        "\n",
        "  - 학습 알고리즘에 더 좋은 특성을 제공한다(특성 공학).\n",
        "\n",
        "  - 모델의 제약을 줄인다(규제 하이퍼파라미터를 감소시킨다).\n",
        "```"
      ],
      "metadata": {
        "id": "PxdqNmP6sgxj"
      }
    },
    {
      "cell_type": "markdown",
      "source": [
        "## 1.5.7 한걸음 물러서서\n",
        "\n",
        "**정리**\n",
        "\n",
        "- 머신러닝은 명시적인 규칙을 코딩하지 않고 기계가 데이터로부터 학습하여 어떤 작업을 더 잘하도록 만드는 것이다.\n",
        "\n",
        "- 여러 종류의 머신러닝 시스템이 있다. 지도 학습과 비지도 학습, 배치 학습과 온라인 학습, 사례 기반 학습과 모델 기반 학습 등이 있다.\n",
        "\n",
        "- 머신러닝 프로젝트에서는 훈련 세트에 데이터를 모아 학습 알고리즘에 주입한다. 학습 알고리즘이 모델 기반이면 훈련 세트에 모델을 맞추기 위해 모델 파라미터를 조정하고(즉, 훈련 세트에서 좋은 예측을 만들기 위해), 새로운 데이터에서도 좋은 예측을 만들 거라 기대한다. 알고리즘이 사례 기반이면 샘플을 기억하느 것이 학습이고 유사도 측정을 사용하여 학습한 샘플과 새로운 샘플을 비교하는 식으로 새로운 샘플에 일반화한다.\n",
        "\n",
        "- 훈련 세트가 너무 작거나, 대표성이 없는 데이터이거나, 잡음이 많고 관련 없는 특성으로 오염되어 있다면 시스템이 잘 작동하지 않습니다(엉터리가 들어가면 엉터리가 나온다.) 마지막으로, 모델이 너무 단순하거나(과소적합된 경우) 너무 복잡하지 않아야 한다(과대적합된 경우)."
      ],
      "metadata": {
        "id": "b0xDYpmctIDK"
      }
    },
    {
      "cell_type": "markdown",
      "source": [
        "# 1.6 테스트와 검증\n",
        "\n",
        "훈련 데이터를 **훈련 세트**와 **테스트 세트** 두 개로 나누는 방식이 있다. 훈련 세트를 사용해 모델을 훈련하고 테스트 세트를 사용해 모델을 테스트한다.\n",
        "\n",
        "**일반화 오차(외부 샘플 오차)** : 새로운 샘플에 대한 오류 비율로 테스트 세트에서 모델을 평가함으로써 이 오차에 대한 추정값을 얻는다.\n",
        "\n",
        "&rarr; 이 값은 이전에 본 적이 없는 새로운 샘플에 모델이 얼마나 잘 작동할지 알려준다."
      ],
      "metadata": {
        "id": "RCRpEmknubyL"
      }
    },
    {
      "cell_type": "markdown",
      "source": [
        "## 1.6.1 하이퍼파라미터 튜닝과 모델 선택\n",
        "\n",
        "모델을 선택할 때, 훈련 세트로 훈련하고 테스트 세트를 사용해 얼마나 잘 일반화되는지 비교하여 선택하면 된다.\n",
        "\n",
        "일반화가 된 모델이 과대적합을 피하기 위해 규제를 적용한다. &rarr; 일반화 오차가 가장 낮은 하이퍼파라미터를 찾음&rarr; 실제 서비스에 투입\n",
        "\n",
        "*but, 성능이 예상보다 좋지 않음*\n",
        "\n",
        "이유 : 일반화 오차를 테스트 세트에서 여러 번 측정했으머로 모델과 하이퍼파라미터가 테스트 세트에 최적화된 모델을 만들었기 때문에 새로운 데이터에 잘 작동하지 않을 수 있다.\n",
        "\n",
        "**해결 방법**\n",
        "\n",
        "**홀드아웃 검증** : 훈련 세트의 일부를 떼어내어 여러 후보 모델을 평가하고 가장 좋은 하나를 선택\n",
        "\n",
        "**검증 세트(validation set)** : 새로운 홀드아웃 세트를 말함\n",
        "\n",
        "```\n",
        "  1. 줄어든 훈련 세트(전체 훈련 세트에서 검증 세트를 뺀 데이터)에서 다양한 하이퍼파라미터 값을 가진 여러 모델을 훈련\n",
        "  \n",
        "  2. 검증 세트에서 가장 높은 성능을 내눈 모델을 선택\n",
        "  \n",
        "  3. 다시 (검증 세트를 포함한)전체 훈련 세트에서 다시 훈련하여 최종 모델을 만든다.\n",
        "\n",
        "  4. 최종 모델을 테스트 세트에서 평가하여 일반화 오차를 추정\n",
        "\n",
        "```\n",
        "\n",
        "검증 세트의 사이즈에 따라 최적이 아닌 모델을 잘못 선택할 수 있다.\n",
        "\n",
        "- 검증 세트가 너무 작은 경우 : 모델이 정확하게 평가 X\n",
        "\n",
        "- 검증 세트가 너무 큰 경우 : 최종 모델이 전체 훈련 세트에서 훈련되기 때문에 너무 작은 훈련 세트에서 훈련한 모델과 비교하는 것은 이상적이지 않음\n",
        "\n",
        "**해결 방법**\n",
        "\n",
        "**교차 검증(cross-validation)** : 작은 검증 세트를 여러 개를 사용해 반복적으로 수행\n",
        "\n",
        "단점 : 훈련 시간이 검증 세트의 개수에 비례해 늘어남\n"
      ],
      "metadata": {
        "id": "BXfKvZyUxNno"
      }
    },
    {
      "cell_type": "markdown",
      "source": [
        "### 데이터 불일치\n",
        "\n",
        "쉽게 많은 양의 훈련 데이터를 얻을 수 있지만 이 데이터가 실제 제품에 사용될 데이터를 완벽하게 대표하지 않을 수 있다.\n",
        "\n",
        "그러므로, 검증 세트와 테스트 세트가 실전에서 기대하는 데이터를 가능한 잘 대표해야 하며 검증 세트와 테스트 세트에 대표 사진이 배타적으로 포함되어야 한다.\n",
        "\n",
        "&rarr; 대표적인 데이터의 반은 검증 세트에 반은 테스트 세트에 넣는다.\n",
        "\n",
        "\n",
        "문제점 : 모델 성능이 낮은 경우, 모델이 훈련 세트에 과대적합되었는지 데이터가 불일치해서 성능이 낮은지 구분하기가 힘듬\n",
        "\n",
        "**훈련-개발 세트** : 훈련 세트의 일부를 떼어내어 또 다른 세트를 만드는 것이다. 모델을 (훈련-개발 세트가 아니라 훈련 세트에서) 훈련한 다음 훈련-개발 세트에서 평가한다.\n",
        "\n"
      ],
      "metadata": {
        "id": "mjZK9wyT0Url"
      }
    }
  ]
}